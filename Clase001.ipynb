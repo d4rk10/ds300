{
  "nbformat": 4,
  "nbformat_minor": 0,
  "metadata": {
    "colab": {
      "name": "Clase001.ipynb",
      "provenance": [],
      "toc_visible": true,
      "authorship_tag": "ABX9TyMScAfjIQZiR9BdRHQPOPXd",
      "include_colab_link": true
    },
    "kernelspec": {
      "name": "python3",
      "display_name": "Python 3"
    },
    "language_info": {
      "name": "python"
    }
  },
  "cells": [
    {
      "cell_type": "markdown",
      "metadata": {
        "id": "view-in-github",
        "colab_type": "text"
      },
      "source": [
        "<a href=\"https://colab.research.google.com/github/d4rk10/ds300/blob/main/Clase001.ipynb\" target=\"_parent\"><img src=\"https://colab.research.google.com/assets/colab-badge.svg\" alt=\"Open In Colab\"/></a>"
      ]
    },
    {
      "cell_type": "code",
      "execution_count": 10,
      "metadata": {
        "id": "E1pA_Z8lWs6i",
        "colab": {
          "base_uri": "https://localhost:8080/"
        },
        "outputId": "aa4db48f-788a-4bdf-9994-0a578eff0980"
      },
      "outputs": [
        {
          "output_type": "stream",
          "name": "stdout",
          "text": [
            "Conjunto:  ('a', 'b', 'c')\n"
          ]
        }
      ],
      "source": [
        "conjunto='a', 'b', 'c'\n",
        "print(\"Conjunto: \", conjunto)\n"
      ]
    },
    {
      "cell_type": "code",
      "source": [
        "lista=['a', 'b', 'c']\n",
        "print(\"Lista: \", lista)"
      ],
      "metadata": {
        "colab": {
          "base_uri": "https://localhost:8080/"
        },
        "id": "pr5D_CSIZZQ-",
        "outputId": "1c4129a3-6a84-4a8a-e0e7-86d5cc511308"
      },
      "execution_count": 12,
      "outputs": [
        {
          "output_type": "stream",
          "name": "stdout",
          "text": [
            "Lista:  ['a', 'b', 'c']\n"
          ]
        }
      ]
    },
    {
      "cell_type": "code",
      "source": [
        "lista=['cero', 'uno', 'dos', 'tres', 'cuatro', 'cinco', 'seis', 'siete', 'ocho', 'nueve']\n",
        "print(\"Lista: \", lista)\n",
        "\n",
        "#Subllista\n",
        "fragmento=lista[0:10] \n",
        "print('fragmento: ', fragmento)\n",
        "\n",
        "fragmento=lista[0:1]\n",
        "print('fragmento: ', fragmento)"
      ],
      "metadata": {
        "colab": {
          "base_uri": "https://localhost:8080/"
        },
        "id": "Rr11SqL6Zdll",
        "outputId": "1ec01f8a-1884-44c3-8610-f2eb6e7f3c30"
      },
      "execution_count": 22,
      "outputs": [
        {
          "output_type": "stream",
          "name": "stdout",
          "text": [
            "Lista:  ['cero', 'uno', 'dos', 'tres', 'cuatro', 'cinco', 'seis', 'siete', 'ocho', 'nueve']\n",
            "fragmento:  ['cero', 'uno', 'dos', 'tres', 'cuatro', 'cinco', 'seis', 'siete', 'ocho', 'nueve']\n",
            "fragmento:  ['cero']\n"
          ]
        }
      ]
    },
    {
      "cell_type": "code",
      "source": [
        "diccionario={\n",
        "    \"nombre\":  \"Alparaco\",\n",
        "    \"apellido\":\"Uribe\"   ,\n",
        "    \"estado\":  \"Genocida\"\n",
        "}\n",
        "\n",
        "print(\"Llaves : \", diccionario.keys())\n",
        "print(\"Valores: \", diccionario.values())\n",
        "print(\"Items  : \", diccionario.items())\n",
        "print(\"Nombre : \", diccionario[\"nombre\"])\n",
        "print(\"Diccionario: \", diccionario)"
      ],
      "metadata": {
        "colab": {
          "base_uri": "https://localhost:8080/"
        },
        "id": "A-9oTQ6-b3xq",
        "outputId": "1313bfbc-7740-4a21-96f7-66360483917c"
      },
      "execution_count": 41,
      "outputs": [
        {
          "output_type": "stream",
          "name": "stdout",
          "text": [
            "Llaves :  dict_keys(['nombre', 'apellido', 'estado'])\n",
            "Valores:  dict_values(['Alparaco', 'Uribe', 'Genocida'])\n",
            "Items  :  dict_items([('nombre', 'Alparaco'), ('apellido', 'Uribe'), ('estado', 'Genocida')])\n",
            "Nombre :  Alparaco\n",
            "Diccionario:  {'nombre': 'Alparaco', 'apellido': 'Uribe', 'estado': 'Genocida'}\n"
          ]
        }
      ]
    },
    {
      "cell_type": "code",
      "source": [
        "item_1={}\n",
        "item_1['size']='grande'\n",
        "item_1['color']='negro'\n",
        "item_1['brand']='Renault'\n",
        "item_1['value']=60\n",
        "\n",
        "item_2={}\n",
        "item_2['size']='mediano'\n",
        "item_2['color']='blanco'\n",
        "item_2['brand']='Mazda'\n",
        "item_2['value']=37\n",
        "\n",
        "print(item_1.items())\n",
        "print(item_2.items())\n",
        "\n",
        "valortotal=item_1['value']+item_2['value']\n",
        "\n",
        "print('Valor total= ', valortotal)\n"
      ],
      "metadata": {
        "colab": {
          "base_uri": "https://localhost:8080/"
        },
        "id": "s1pEN8Z5gWAx",
        "outputId": "a6d37dfe-f82a-470e-81da-18bbf3ed1aec"
      },
      "execution_count": 44,
      "outputs": [
        {
          "output_type": "stream",
          "name": "stdout",
          "text": [
            "dict_items([('size', 'grande'), ('color', 'negro'), ('brand', 'Renault'), ('value', 60)])\n",
            "dict_items([('size', 'mediano'), ('color', 'blanco'), ('brand', 'Mazda'), ('value', 37)])\n",
            "Valor total=  97\n"
          ]
        }
      ]
    }
  ]
}